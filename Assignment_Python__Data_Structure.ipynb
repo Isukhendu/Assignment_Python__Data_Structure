{
  "nbformat": 4,
  "nbformat_minor": 0,
  "metadata": {
    "colab": {
      "provenance": []
    },
    "kernelspec": {
      "name": "python3",
      "display_name": "Python 3"
    },
    "language_info": {
      "name": "python"
    }
  },
  "cells": [
    {
      "cell_type": "code",
      "execution_count": null,
      "metadata": {
        "id": "IelcCOK-5ZXo"
      },
      "outputs": [],
      "source": []
    },
    {
      "cell_type": "markdown",
      "source": [
        "**Q.1. What are data structures, and why are they important?**\n",
        "- Data structures in Python are essential for organizing and managing data efficiently. They provide various ways to store data, allowing programmers to choose the most suitable structure based on their specific needs.\n",
        "\n",
        "**Q.2. Explain the difference between mutable and immutable data types with examples.**\n",
        "\n",
        "- In Python, data types are categorized into **mutable** and **immutable** types based on whether their values can be changed after they are created. Understanding the distinction between these two categories is essential for effective programming."
      ],
      "metadata": {
        "id": "kU_E4NDl5l19"
      }
    },
    {
      "cell_type": "code",
      "source": [
        "#example mutable data type\n",
        "my_list = [1, 2, 3]\n",
        "my_list.append(4)\n",
        "my_list  # List becomes [1, 2, 3, 4]\n",
        "\n",
        "#example immutable data type\n",
        "my_tuple = (1, 2, 3)\n",
        "# Attempting to modify will raise an error\n",
        "# my_tuple[0] = 10 (This will raise TypeError)"
      ],
      "metadata": {
        "colab": {
          "base_uri": "https://localhost:8080/"
        },
        "id": "JAhp5M5s681y",
        "outputId": "c740ceae-8879-4220-a1bd-8ba80ebe9dd4"
      },
      "execution_count": null,
      "outputs": [
        {
          "output_type": "execute_result",
          "data": {
            "text/plain": [
              "[1, 2, 3, 4]"
            ]
          },
          "metadata": {},
          "execution_count": 2
        }
      ]
    },
    {
      "cell_type": "markdown",
      "source": [
        "**Q.3. What are the main differences between lists and tuples in Python?**\n",
        "- **List** defined using square brackets [ ]\n",
        "- **Tuples** defined using parentheses ( )\n",
        "\n",
        "**Q.4. Describe how dictionaries store data.**\n",
        "- Dictionaries in Python are a built-in data type that stores data in the form of key-value pairs. They provide an efficient way to manage and retrieve data based on unique keys.\n",
        "\n",
        "**Q.5. Why might you use a set instead of a list in Python?**\n",
        "- Using a set instead of a list in Python can be beneficial for several reasons,\n",
        "-**Sets** automatically enforce uniqueness, meaning they cannot contain duplicate values. This feature is useful when you need to ensure that a collection contains only distinct items.\n",
        "\n",
        "In Python when we need to ensure uniqueness among elements, require fast membership testing and performance with large datasets, or want to utilize built-in mathematical operations on collections.I shall choose to use a set instead of a list.\n",
        "\n",
        "**Q.6. What is a string in Python, and how is it different from a list?**\n",
        "- In Python, a **string** is a built-in data type used to represent a sequence of characters, which can include letters, numbers, symbols, and whitespace. Strings are defined by enclosing characters in either single quotes ('...'), double quotes (\"...\"), or triple quotes ('''...''' or \"\"\"...\"\"\") for multiline strings.\n",
        "- Whereas **List** enclosed in square brackets [...]\n",
        "\n",
        "**Q.7. How do tuples ensure data integrity in Python?**\n",
        "\n",
        "- **Tuples** in Python are immutable sequences that ensure data integrity through their inherent characteristics. Once a **tuple** is created, its contents cannot be altered—no additions, deletions, or modifications are allowed. This immutability guarantees that the data remains consistent throughout the program's execution, reducing the risk of unintended changes that could lead to bugs or inconsistencies.\n",
        "\n",
        "- **Tuples** ensure data integrity in Python by being immutable and hashable, which prevents unintended modifications and allows them to function as reliable keys in dictionaries. Their fixed structure and performance benefits make them particularly useful for storing collections of related data that should remain constant throughout a program's execution.\n",
        "\n",
        "**Q.8. What is a hash table, and how does it relate to dictionaries in Python?**\n",
        "- A hash table is a powerful data structure that enables efficient data retrieval through key-value pairs via hashing. Python's dictionary type leverages this concept, providing fast access and manipulation of data while ensuring that keys are unique and efficiently managed through hashing techniques. This relationship underscores the importance of hash tables in programming and data management within Python.\n",
        "\n",
        "**Q.9. Can lists contain different data types in Python?**\n",
        "- Yes, **lists** in Python can contain different data types. This flexibility allows a single list to hold a mixture of various types of elements, such as integers, strings, floats, booleans, and even other lists or complex objects.\n",
        "\n",
        "**Q.10. Explain why strings are immutable in Python.**\n",
        "- The immutability of **strings** in Python is a deliberate design decision that enhances data integrity, allows for efficient memory management, simplifies programming practices, and supports safe concurrent programming. These characteristics make strings a robust choice for handling textual data in Python applications.\n",
        "\n",
        "**Q.11. What advantages do dictionaries offer over lists for certain tasks?**\n",
        "- Dictionaries provide significant advantages over lists when it comes to fast lookups, key-value associations, maintaining unique identifiers, and managing dynamic data structures efficiently. These features make dictionaries a preferred choice in situations where quick access to data and clear relationships between elements are required.\n",
        "\n",
        "**Q.12. Describe a scenario where using a tuple would be preferable over a list.**\n",
        "- Considering a situation where we working with a fixed data record structure, such as a student's record that includes a **name, age, and enrollment number**. Since the attributes of a student record are not expected to change after they are created, using a tuple makes logical sense.\n",
        "\n",
        "**Q.13. How do sets handle duplicate values in Python?**\n",
        "- In Python, sets are designed to handle duplicate values by automatically ignoring any duplicates when elements are added.\n",
        "\n",
        "**Q.14. How does the \"in\" keyword work differently for lists and dictionaries?**\n",
        "\n",
        "- The in keyword in Python is used to test for membership in various data structures, including lists and dictionaries, but it operates differently for each.\n",
        "\n",
        "- When using the **'in'** keyword with a **list**, it checks for the presence of a specific value within the list. The operation iterates through each element in the list to determine if the specified value exists.\n",
        "\n",
        "- When using the **'in'** keyword with a **dictionary**, it checks for the presence of a specific key rather than a value. This means that you are testing whether a particular key exists in the dictionary's set of keys.\n",
        "\n",
        "**Q.15. Can you modify the elements of a tuple? Explain why or why not.**\n",
        "- No , tuple element can't be modified,added or removed.\n",
        "- this is because **tuples** in Python are **immutable collections** that cannot be modified after creation. This immutability provides benefits such as data integrity and hashability while also optimizing performance in certain scenarios.\n",
        "\n",
        "**Q.16. What is a nested dictionary, and give an example of its use case?**\n",
        "- A dictionary that contains another dictionary (or dictionaries) as its value is called a nested dictionary.\n",
        "\n",
        "**use case** -  Organizing Student Information\n",
        "\n",
        "Considering a scenario where we need to store information about students, including their grades and subjects. A nested dictionary can help organize this data in a way that's easy to access."
      ],
      "metadata": {
        "id": "iSMQ0UAQ7rGY"
      }
    },
    {
      "cell_type": "code",
      "source": [
        "student_db = {\"student_1\": {\"name\": \"Alice\",\"grades\": {\"math\": 90,\"science\": 85,\"history\": 88}},\n",
        "            \"student_2\": {\"name\": \"Bob\",\"grades\": {\"math\": 75,\"science\": 80,\"history\": 78}}\n",
        "            }\n",
        "\n"
      ],
      "metadata": {
        "id": "ezoPikgtN6m3",
        "colab": {
          "base_uri": "https://localhost:8080/"
        },
        "outputId": "89df73be-b081-4aa6-bec1-81f8136dc7dc"
      },
      "execution_count": null,
      "outputs": [
        {
          "output_type": "execute_result",
          "data": {
            "text/plain": [
              "{'student_1': {'name': 'Alice',\n",
              "  'grades': {'math': 90, 'science': 85, 'history': 88}},\n",
              " 'student_2': {'name': 'Bob',\n",
              "  'grades': {'math': 75, 'science': 80, 'history': 78}}}"
            ]
          },
          "metadata": {},
          "execution_count": 4
        }
      ]
    },
    {
      "cell_type": "markdown",
      "source": [
        "**Accessing Data**: We can easily access specific information, such as Alice's science grade:"
      ],
      "metadata": {
        "id": "29r02FbIObIn"
      }
    },
    {
      "cell_type": "code",
      "source": [
        "#Alice's science grade\n",
        "student_db[\"student_1\"][\"grades\"][\"science\"]"
      ],
      "metadata": {
        "id": "tT1kgtA4Oh_O",
        "colab": {
          "base_uri": "https://localhost:8080/"
        },
        "outputId": "2a830e3f-8e67-434c-df16-6684e3f79a8b"
      },
      "execution_count": null,
      "outputs": [
        {
          "output_type": "execute_result",
          "data": {
            "text/plain": [
              "85"
            ]
          },
          "metadata": {},
          "execution_count": 6
        }
      ]
    },
    {
      "cell_type": "markdown",
      "source": [
        "**Q.17. Describe the time complexity of accessing elements in a dictionary.**\n",
        "- Accessing elements in a dictionary generally exhibits efficient time complexity characteristics, primarily due to the underlying hash table implementation used by Python.\n",
        "\n",
        "- *Average Time Complexity*: The average time complexity for accessing an element in a dictionary is O(1). This means that, on average, retrieving a value using its key does not depend on the number of elements in the dictionary. This efficiency arises from the use of hash functions that map keys to specific locations in the underlying array structure, allowing for direct access.\n",
        "\n",
        "- *Worst Time Complexity*: In the worst-case scenario, the time complexity can degrade to O(n). This situation typically occurs due to hash collisions, where multiple keys hash to the same index in the array. When this happens, the dictionary must resolve these collisions, often by linking entries at the same index or open finding another open slot. As a result, if many keys collide, accessing an element may require traversing a list of entries at that index, leading to linear time complexity.\n",
        "\n",
        "- *Key Size Impact*: The time complexity can also vary based on the size and type of the key. For example, while accessing integer keys is generally O(1) due to their constant size and straightforward hashing, string keys may introduce additional overhead. The time complexity for string key access can be O(k), where k is the length of the string. This is because hashing and equality checks for strings involve examining each character. Thus, while integer key access remains constant time on average, string key access may be influenced by its length.\n",
        "\n",
        "Overall, dictionaries provide efficient access times under normal conditions, making them a preferred data structure for scenarios requiring rapid lookups and insertions.\n",
        "\n",
        "**Q.18.In what situations are lists preferred over dictionaries?**\n",
        "- **lists** are appropriate for ordered collections of items, simple data structures, and when element access is based on index rather than key-value pairs. **Dictionaries**, on the other hand, when we need to associate additional context or metadata (the key-value relationship) with our data.\n",
        "\n",
        "**Q.19. Why are dictionaries considered unordered, and how does that affect data retrieval?**\n",
        "- *Dictionaries* are considered unordered due to their hash table implementation and lack of guaranteed item order (except from Python 3.7 onwards).Starting from Python 3.7, dictionaries maintain the insertion order of items, meaning that they will return items in the order they were added.However, the conceptual framework around dictionaries is that they are fundamentally designed for quick lookups based on keys, rather than ordered manipulation of data.\n",
        "\n",
        "- The unordered nature means that the primary method for retrieving values is through their unique keys rather than by index. This allows for efficient lookups, with an average time complexity of O(1) for accessing values by key due to the hashing mechanism.\n",
        "\n",
        "**Q.20. Explain the difference between a list and a dictionary in terms of data retrieval.**\n",
        "\n",
        "- *Lists* and *dictionaries* are both fundamental data structures in Python, but they operate very differently, especially in terms of data retrieval.Lists allow access via a sequential index and maintain the order of elements.Dictionaries facilitate fast access through unique keys and emphasize key-value relationships rather than order. Understanding these distinctions helps us choosing the appropriate structure depending on the requirements of our application.\n",
        "\n",
        "- To retrieve an item from a list, we use its index:\n",
        "- To retrieve a value in a dictionary, you use its associated key:\n",
        "\n"
      ],
      "metadata": {
        "id": "FzoimEaObowB"
      }
    },
    {
      "cell_type": "markdown",
      "source": [
        "**Practical Question and Answer**"
      ],
      "metadata": {
        "id": "MNK7rXHF1RAZ"
      }
    },
    {
      "cell_type": "code",
      "source": [
        "# 1. Write a code to create a string with your name and print it.\n",
        "s=\"Sukhendu Sardar\"\n",
        "print(s)\n"
      ],
      "metadata": {
        "colab": {
          "base_uri": "https://localhost:8080/"
        },
        "id": "tOGacEnl0zrV",
        "outputId": "91b69184-0d54-4efe-f7dc-f45a0f971dcc"
      },
      "execution_count": 1,
      "outputs": [
        {
          "output_type": "stream",
          "name": "stdout",
          "text": [
            "Sukhendu Sardar\n"
          ]
        }
      ]
    },
    {
      "cell_type": "code",
      "source": [
        "# 2.Write a code to find the length of the string \"Hello World\".\n",
        "s=\"Hello World\"\n",
        "len(s)\n"
      ],
      "metadata": {
        "colab": {
          "base_uri": "https://localhost:8080/"
        },
        "id": "fb0U6nSm1DQK",
        "outputId": "ab687777-8a81-4908-dd8e-b051e0cc0b96"
      },
      "execution_count": 2,
      "outputs": [
        {
          "output_type": "execute_result",
          "data": {
            "text/plain": [
              "11"
            ]
          },
          "metadata": {},
          "execution_count": 2
        }
      ]
    },
    {
      "cell_type": "code",
      "source": [
        "# 3. Write a code to slice the first 3 characters from the string \"Python Programming\".\n",
        "s=\"Python Programming\"\n",
        "s[0:3]\n",
        "\n"
      ],
      "metadata": {
        "colab": {
          "base_uri": "https://localhost:8080/",
          "height": 36
        },
        "id": "YSBCmVaq1e6K",
        "outputId": "a864d1dd-413d-4449-e3ce-bebb31879731"
      },
      "execution_count": 3,
      "outputs": [
        {
          "output_type": "execute_result",
          "data": {
            "text/plain": [
              "'Pyt'"
            ],
            "application/vnd.google.colaboratory.intrinsic+json": {
              "type": "string"
            }
          },
          "metadata": {},
          "execution_count": 3
        }
      ]
    },
    {
      "cell_type": "code",
      "source": [
        "# 4. Write a code to convert the string \"hello\" to uppercase.\n",
        "s=\"hello\"\n",
        "s.upper()"
      ],
      "metadata": {
        "colab": {
          "base_uri": "https://localhost:8080/",
          "height": 36
        },
        "id": "YuRiKIZT1t15",
        "outputId": "61576484-7ef1-45f1-e93c-5b2c8a769001"
      },
      "execution_count": 4,
      "outputs": [
        {
          "output_type": "execute_result",
          "data": {
            "text/plain": [
              "'HELLO'"
            ],
            "application/vnd.google.colaboratory.intrinsic+json": {
              "type": "string"
            }
          },
          "metadata": {},
          "execution_count": 4
        }
      ]
    },
    {
      "cell_type": "code",
      "source": [
        "# 5. Write a code to replace the word \"apple\" with \"orange\" in the string \"I like apple\".\n",
        "s=\"I like apple\"\n",
        "s.replace(\"apple\",\"orange\")"
      ],
      "metadata": {
        "colab": {
          "base_uri": "https://localhost:8080/",
          "height": 36
        },
        "id": "wUJzLKmd1-AZ",
        "outputId": "bd96a66b-7c9e-42e5-fc49-abb10d29e1c4"
      },
      "execution_count": 5,
      "outputs": [
        {
          "output_type": "execute_result",
          "data": {
            "text/plain": [
              "'I like orange'"
            ],
            "application/vnd.google.colaboratory.intrinsic+json": {
              "type": "string"
            }
          },
          "metadata": {},
          "execution_count": 5
        }
      ]
    },
    {
      "cell_type": "code",
      "source": [
        "# 6. Write a code to create a list with numbers 1 to 5 and print it.\n",
        "mylist=[1,2,3,4,5]\n",
        "print(mylist)"
      ],
      "metadata": {
        "colab": {
          "base_uri": "https://localhost:8080/"
        },
        "id": "uoH_ih972Mg4",
        "outputId": "a4b488ed-e191-4589-ace4-3b9bfaa191bf"
      },
      "execution_count": 7,
      "outputs": [
        {
          "output_type": "stream",
          "name": "stdout",
          "text": [
            "[1, 2, 3, 4, 5]\n"
          ]
        }
      ]
    },
    {
      "cell_type": "code",
      "source": [
        "# 7.Write a code to append the number 10 to the list [1, 2, 3, 4).\n",
        "mylist=[1,2,3,4]\n",
        "mylist.append(10)\n",
        "print(mylist)"
      ],
      "metadata": {
        "colab": {
          "base_uri": "https://localhost:8080/"
        },
        "id": "5iugQiZg2bZ5",
        "outputId": "5b9d2f3e-e3e8-40be-f5e1-b9132cf01317"
      },
      "execution_count": 8,
      "outputs": [
        {
          "output_type": "stream",
          "name": "stdout",
          "text": [
            "[1, 2, 3, 4, 10]\n"
          ]
        }
      ]
    },
    {
      "cell_type": "code",
      "source": [
        "# 8.Write a code to remove the number 3 from the list [1, 2, 3, 4, 5].\n",
        "mylist=[1,2,3,4,5]\n",
        "mylist.remove(3)\n",
        "print(mylist)"
      ],
      "metadata": {
        "colab": {
          "base_uri": "https://localhost:8080/"
        },
        "id": "tvhhFYu72rNx",
        "outputId": "8f5aa2ed-c0e6-46d4-d500-c49ba0d213ce"
      },
      "execution_count": 9,
      "outputs": [
        {
          "output_type": "stream",
          "name": "stdout",
          "text": [
            "[1, 2, 4, 5]\n"
          ]
        }
      ]
    },
    {
      "cell_type": "code",
      "source": [
        "# 9.Write a code to access the second element in the list ['a', 'b', 'c', 'd'].\n",
        "mylist=['a','b','c','d']\n",
        "mylist[1]"
      ],
      "metadata": {
        "colab": {
          "base_uri": "https://localhost:8080/",
          "height": 36
        },
        "id": "MEPvlcIG20Yp",
        "outputId": "b6368f11-0374-4b42-ceb4-57760c2a4114"
      },
      "execution_count": 10,
      "outputs": [
        {
          "output_type": "execute_result",
          "data": {
            "text/plain": [
              "'b'"
            ],
            "application/vnd.google.colaboratory.intrinsic+json": {
              "type": "string"
            }
          },
          "metadata": {},
          "execution_count": 10
        }
      ]
    },
    {
      "cell_type": "code",
      "source": [
        "# 10.Write a code to reverse the list [10, 20, 30, 40, 50].\n",
        "mylist=[10,20,30,40,50]\n",
        "mylist[::-1]"
      ],
      "metadata": {
        "colab": {
          "base_uri": "https://localhost:8080/"
        },
        "id": "TFcAvtpI3OKa",
        "outputId": "09aef905-7721-4532-a5bc-db6bf02e1476"
      },
      "execution_count": 11,
      "outputs": [
        {
          "output_type": "execute_result",
          "data": {
            "text/plain": [
              "[50, 40, 30, 20, 10]"
            ]
          },
          "metadata": {},
          "execution_count": 11
        }
      ]
    },
    {
      "cell_type": "code",
      "source": [
        "# 11.Write a code to create a tuple with the elements 10, 20, 30 and print it.\n",
        "my_tuple=(10,20,30)\n",
        "print(my_tuple)"
      ],
      "metadata": {
        "colab": {
          "base_uri": "https://localhost:8080/"
        },
        "id": "h7M7Ckcg3dph",
        "outputId": "078a4846-38be-493d-c58c-aea678c34028"
      },
      "execution_count": 12,
      "outputs": [
        {
          "output_type": "stream",
          "name": "stdout",
          "text": [
            "(10, 20, 30)\n"
          ]
        }
      ]
    },
    {
      "cell_type": "code",
      "source": [
        "# 12.Write a code to access the first element of the tuple ('apple', 'banana', 'cherry').\n",
        "my_tuple=('apple','banana','cherry')\n",
        "my_tuple[0]"
      ],
      "metadata": {
        "colab": {
          "base_uri": "https://localhost:8080/",
          "height": 36
        },
        "id": "JA9GT_SC3lGp",
        "outputId": "53c5ebd3-d9bd-41b0-ed79-7ae424846088"
      },
      "execution_count": 13,
      "outputs": [
        {
          "output_type": "execute_result",
          "data": {
            "text/plain": [
              "'apple'"
            ],
            "application/vnd.google.colaboratory.intrinsic+json": {
              "type": "string"
            }
          },
          "metadata": {},
          "execution_count": 13
        }
      ]
    },
    {
      "cell_type": "code",
      "source": [
        "# 13.Write a code to count how many times the number 2 appears in the tuple (1, 2, 3, 2, 4, 2).\n",
        "mytuple=(1, 2, 3, 2, 4, 2)\n",
        "mytuple.count(2)"
      ],
      "metadata": {
        "colab": {
          "base_uri": "https://localhost:8080/"
        },
        "id": "39aFD_VG35Sh",
        "outputId": "bbf1f8da-95e5-47ab-e891-a6286e89b291"
      },
      "execution_count": 14,
      "outputs": [
        {
          "output_type": "execute_result",
          "data": {
            "text/plain": [
              "3"
            ]
          },
          "metadata": {},
          "execution_count": 14
        }
      ]
    },
    {
      "cell_type": "code",
      "source": [
        "# 14. Write a code to find the index of the element \"cat\" in the tuple ('dog, 'cat', 'rabbit').\n",
        "mytuple=('dog','cat','rabbit')\n",
        "mytuple.index('cat')"
      ],
      "metadata": {
        "colab": {
          "base_uri": "https://localhost:8080/"
        },
        "id": "F6DWIjTs4DvJ",
        "outputId": "3a299bea-4854-460c-dcf0-22c8b7c29f53"
      },
      "execution_count": 15,
      "outputs": [
        {
          "output_type": "execute_result",
          "data": {
            "text/plain": [
              "1"
            ]
          },
          "metadata": {},
          "execution_count": 15
        }
      ]
    },
    {
      "cell_type": "code",
      "source": [
        "# 15.Write a code to check if the element \"banana\" is in the tuple ('apple, 'orange', 'banana')\n",
        "mytuple=('apple','orange','banana')\n",
        "'banana' in mytuple"
      ],
      "metadata": {
        "colab": {
          "base_uri": "https://localhost:8080/"
        },
        "id": "NF2Wkozh4U4Z",
        "outputId": "ec62b81c-85d2-4945-de82-e353389ffa96"
      },
      "execution_count": 16,
      "outputs": [
        {
          "output_type": "execute_result",
          "data": {
            "text/plain": [
              "True"
            ]
          },
          "metadata": {},
          "execution_count": 16
        }
      ]
    },
    {
      "cell_type": "code",
      "source": [
        "# 16.Write a code to create a set with the elements 1, 2, 3, 4, 5 and print it.\n",
        "my_set={1,2,3,4,5}\n",
        "print(my_set)"
      ],
      "metadata": {
        "colab": {
          "base_uri": "https://localhost:8080/"
        },
        "id": "-w7BbnIS5CU5",
        "outputId": "6d9a54c0-24b4-4888-d772-d8273985d4cc"
      },
      "execution_count": 17,
      "outputs": [
        {
          "output_type": "stream",
          "name": "stdout",
          "text": [
            "{1, 2, 3, 4, 5}\n"
          ]
        }
      ]
    },
    {
      "cell_type": "code",
      "source": [
        "# 17.Write a code to add the element 6 to the set {1, 2, 3, 4}.\n",
        "my_set={1,2,3,4}\n",
        "my_set.add(6)\n",
        "print(my_set)"
      ],
      "metadata": {
        "colab": {
          "base_uri": "https://localhost:8080/"
        },
        "id": "isWX2aCA5az5",
        "outputId": "37ebddaa-fe91-4e10-b9a7-e02afff7094b"
      },
      "execution_count": 18,
      "outputs": [
        {
          "output_type": "stream",
          "name": "stdout",
          "text": [
            "{1, 2, 3, 4, 6}\n"
          ]
        }
      ]
    },
    {
      "cell_type": "code",
      "source": [
        "# 18. Write a code to create a tuple with the elements 10, 20, 30 and print it.\n",
        "my_tuple=(10,20,30)\n",
        "print(my_tuple)\n"
      ],
      "metadata": {
        "colab": {
          "base_uri": "https://localhost:8080/"
        },
        "id": "391pcLj_65kj",
        "outputId": "b4995159-3b9d-428b-c440-d44506952a17"
      },
      "execution_count": 19,
      "outputs": [
        {
          "output_type": "stream",
          "name": "stdout",
          "text": [
            "(10, 20, 30)\n"
          ]
        }
      ]
    },
    {
      "cell_type": "code",
      "source": [
        "# 19. Write a code to access the first element of the tuple ('apple', 'banana', 'cherry').\n",
        "my_tuple=('apple','banana','cherry')\n",
        "my_tuple[0]"
      ],
      "metadata": {
        "colab": {
          "base_uri": "https://localhost:8080/",
          "height": 36
        },
        "id": "9FZjwLQv7Csq",
        "outputId": "d73e7839-2de4-4748-b5fa-685749cc2b5d"
      },
      "execution_count": 20,
      "outputs": [
        {
          "output_type": "execute_result",
          "data": {
            "text/plain": [
              "'apple'"
            ],
            "application/vnd.google.colaboratory.intrinsic+json": {
              "type": "string"
            }
          },
          "metadata": {},
          "execution_count": 20
        }
      ]
    },
    {
      "cell_type": "code",
      "source": [
        "# 20.  Write a code to count how many times the number 2 appears in the tuple (1, 2, 3, 2, 4, 2).\n",
        "my_tuple=(1,2,3,2,4,2)\n",
        "my_tuple.count(2)"
      ],
      "metadata": {
        "colab": {
          "base_uri": "https://localhost:8080/"
        },
        "id": "ZkO4hXsh7NKC",
        "outputId": "5bb1b298-d55a-4a56-99ad-47a4cdaf5821"
      },
      "execution_count": 21,
      "outputs": [
        {
          "output_type": "execute_result",
          "data": {
            "text/plain": [
              "3"
            ]
          },
          "metadata": {},
          "execution_count": 21
        }
      ]
    },
    {
      "cell_type": "code",
      "source": [
        "# 21. Write a code to find the index of the element \"cat\" in the tuple ('dog', 'cat', 'rabbit').\n",
        "mytuple=('dog','cat','rabbit')\n",
        "mytuple.index('cat')"
      ],
      "metadata": {
        "colab": {
          "base_uri": "https://localhost:8080/"
        },
        "id": "VmfsoDY07amp",
        "outputId": "2eb0cf43-2590-4075-b3ed-10e0e4da179f"
      },
      "execution_count": 22,
      "outputs": [
        {
          "output_type": "execute_result",
          "data": {
            "text/plain": [
              "1"
            ]
          },
          "metadata": {},
          "execution_count": 22
        }
      ]
    },
    {
      "cell_type": "code",
      "source": [
        "# 22.Write a code to check if the element \"banana\" is in the tuple ('apple', 'orange', 'banana').\n",
        "MyTuple=('apple','orange','banana')\n",
        "'banana' in MyTuple"
      ],
      "metadata": {
        "colab": {
          "base_uri": "https://localhost:8080/"
        },
        "id": "q9pWyubm7jSy",
        "outputId": "c16a199e-cb93-418e-efa1-fa9ff200fc2d"
      },
      "execution_count": 23,
      "outputs": [
        {
          "output_type": "execute_result",
          "data": {
            "text/plain": [
              "True"
            ]
          },
          "metadata": {},
          "execution_count": 23
        }
      ]
    },
    {
      "cell_type": "code",
      "source": [
        "# 23. Write a code to create a set with the elements 1, 2, 3, 4, 5 and print it.\n",
        "My_Set={1,2,3,4,5}\n",
        "print(My_Set)\n"
      ],
      "metadata": {
        "colab": {
          "base_uri": "https://localhost:8080/"
        },
        "id": "0IqL-1cX7zC5",
        "outputId": "4c325973-27c3-4596-c13e-679015a6a8dd"
      },
      "execution_count": 24,
      "outputs": [
        {
          "output_type": "stream",
          "name": "stdout",
          "text": [
            "{1, 2, 3, 4, 5}\n"
          ]
        }
      ]
    },
    {
      "cell_type": "code",
      "source": [
        "# 24. Write a code to add the element 6 to the set {1, 2, 3, 4}.\n",
        "My_Set={1,2,3,4}\n",
        "My_Set.add(6)\n",
        "print(My_Set)"
      ],
      "metadata": {
        "colab": {
          "base_uri": "https://localhost:8080/"
        },
        "id": "vm5N56w77_tK",
        "outputId": "2433cab7-a3e5-4dbf-e42f-89f7048485c1"
      },
      "execution_count": 25,
      "outputs": [
        {
          "output_type": "stream",
          "name": "stdout",
          "text": [
            "{1, 2, 3, 4, 6}\n"
          ]
        }
      ]
    },
    {
      "cell_type": "code",
      "source": [],
      "metadata": {
        "id": "YS-z_ykt8OpC"
      },
      "execution_count": null,
      "outputs": []
    }
  ]
}